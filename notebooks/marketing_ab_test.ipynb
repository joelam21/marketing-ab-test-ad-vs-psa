{
 "cells": [
  {
   "cell_type": "code",
   "execution_count": 1,
   "id": "7d6613ad",
   "metadata": {},
   "outputs": [],
   "source": [
    "# Marketing A/B Test: Ad Campaign Performance"
   ]
  },
  {
   "cell_type": "markdown",
   "id": "75e15d41",
   "metadata": {},
   "source": [
    "### 🧪 Project Overview\n",
    "\n",
    "This notebook walks through a full A/B testing workflow using a **synthetic marketing dataset** (from Kaggle) comparing two strategies: an advertisement (ad) and a public service announcement (PSA).\n",
    "\n",
    "The analysis includes:\n",
    "- Hypothesis formulation\n",
    "- Power calculation to estimate required sample size\n",
    "- Statistical testing (two-proportion Z-test)\n",
    "- Uncertainty visualization using bootstrapped confidence intervals\n",
    "- Lift analysis (absolute and relative)\n",
    "- Executive-style interpretation and recommendations\n",
    "\n",
    "While the dataset is simulated, the workflow reflects **real-world A/B testing best practices** and emphasizes both **technical rigor and stakeholder-ready communication**.\n"
   ]
  },
  {
   "cell_type": "markdown",
   "id": "52182a85",
   "metadata": {},
   "source": [
    "## 📣 Executive Summary: Ad Campaign Performance\n",
    "\n",
    "### ✅ Key Insight\n",
    "The **ad campaign** significantly outperformed the PSA in driving conversions.\n",
    "\n",
    "- We tested both campaigns across a large sample of users.\n",
    "- The results are **statistically significant**, meaning the performance lift is **real and not due to chance**.\n",
    "- The **ad group consistently delivered higher conversions** in simulated scenarios.\n",
    "\n",
    "### 📈 What This Means\n",
    "> \"The ad campaign is the clear winner. Based on the data, we’re confident it’s the better strategy to drive user engagement.\"\n",
    "\n",
    "### 🔍 Why We’re Confident\n",
    "- We used simulation to test thousands of possible outcomes.\n",
    "- The **difference in performance is large and consistent**.\n",
    "- The data shows a **clear separation between the two groups** — there's no ambiguity.\n",
    "\n",
    "---\n",
    "\n",
    "📌 **Recommendation**: Move forward with the ad strategy. It’s shown reliable, measurable impact.\n"
   ]
  },
  {
   "cell_type": "code",
   "execution_count": 2,
   "id": "e95beac9",
   "metadata": {},
   "outputs": [],
   "source": [
    "# ==========================================\n",
    "# 📌 STEP 1: State the Hypotheses\n",
    "# =========================================="
   ]
  },
  {
   "cell_type": "code",
   "execution_count": 3,
   "id": "b2b6e9bb",
   "metadata": {},
   "outputs": [
    {
     "name": "stdout",
     "output_type": "stream",
     "text": [
      "\n",
      "📌 STEP 1: State the Hypotheses\n",
      "Experiment: Ad vs PSA Conversion Test\n",
      "Comparison Type: two-sample\n",
      "Metric Type: binary\n",
      "Test Direction: greater\n",
      "H₀: There is no difference in conversion rate between the ad and psa groups.\n",
      "H₁: The ad group has a higher conversion rate than the psa group.\n"
     ]
    }
   ],
   "source": [
    "# Formulate hypotheses based on set of parameters\n",
    "experiment_name = \"Ad vs PSA Conversion Test\"\n",
    "comparison_type = \"two-sample\"\n",
    "metric_type = \"binary\"\n",
    "direction = \"greater\"\n",
    "sample_size = \"large\"\n",
    "audience = \"general\"\n",
    "group_col = \"test group\"\n",
    "metric_col = \"converted\"\n",
    "group_names = ['ad', 'psa']\n",
    "\n",
    "known_metric_labels = {\n",
    "    \"converted\": \"conversion rate\",\n",
    "    \"clicked\": \"click-through rate\",\n",
    "    \"signed_up\": \"signup rate\",\n",
    "    \"purchased\": \"purchase rate\"\n",
    "}\n",
    "metric_name = known_metric_labels.get(metric_col, metric_col)\n",
    "\n",
    "# Audience-aware phrasing\n",
    "if audience == \"general\":\n",
    "    h0_phrase = f\"There is no difference in {metric_name} between the {group_names[0]} and {group_names[1]} groups.\"\n",
    "else:\n",
    "    h0_phrase = f\"The {metric_name} is equal between the {group_names[0]} and {group_names[1]} groups.\"\n",
    "\n",
    "print(f\"\\n📌 STEP 1: State the Hypotheses\")\n",
    "print(f\"Experiment: {experiment_name}\")\n",
    "print(f\"Comparison Type: {comparison_type}\")\n",
    "print(f\"Metric Type: {metric_type}\")\n",
    "print(f\"Test Direction: {direction}\")\n",
    "\n",
    "if comparison_type == \"two-sample\":\n",
    "    print(f\"H₀: {h0_phrase}\")\n",
    "    if direction == \"greater\":\n",
    "        print(f\"H₁: The {group_names[0]} group has a higher {metric_name} than the {group_names[1]} group.\")\n",
    "    elif direction == \"less\":\n",
    "        print(f\"H₁: The {group_names[0]} group has a lower {metric_name} than the {group_names[1]} group.\")\n",
    "    else:\n",
    "        print(f\"H₁: The {metric_name} differs between the {group_names[0]} and {group_names[1]} groups.\")\n",
    "\n",
    "elif comparison_type == \"one-sample\":\n",
    "    reference_value = float(input(\"🔧 Enter the reference value to compare against: \"))\n",
    "    if audience == \"general\":\n",
    "        h0_phrase = f\"There is no difference from {reference_value} in the {metric_name} for the {group_names[0]} group.\"\n",
    "    else:\n",
    "        h0_phrase = f\"The average {metric_name} in the {group_names[0]} group is equal to {reference_value}.\"\n",
    "    print(f\"H₀: {h0_phrase}\")\n",
    "    if direction == \"greater\":\n",
    "        print(f\"H₁: The average {metric_name} in the {group_names[0]} group is greater than {reference_value}.\")\n",
    "    elif direction == \"less\":\n",
    "        print(f\"H₁: The average {metric_name} in the {group_names[0]} group is less than {reference_value}.\")\n",
    "    else:\n",
    "        print(f\"H₁: The average {metric_name} in the {group_names[0]} group is different from {reference_value}.\")\n",
    "\n",
    "elif comparison_type == \"paired\":\n",
    "    if audience == \"general\":\n",
    "        print(f\"H₀: There is no difference in the {metric_name} between the paired observations.\")\n",
    "    else:\n",
    "        print(f\"H₀: The paired {metric_name} values are equal.\")\n",
    "    print(f\"H₁: There is a difference in the {metric_name} between the paired observations.\")"
   ]
  },
  {
   "cell_type": "code",
   "execution_count": 4,
   "id": "9650cc17",
   "metadata": {},
   "outputs": [],
   "source": [
    "# ==========================================\n",
    "# ✅ STEP 2: Choose a Significance Level\n",
    "# =========================================="
   ]
  },
  {
   "cell_type": "code",
   "execution_count": 5,
   "id": "9c680f5f",
   "metadata": {},
   "outputs": [
    {
     "name": "stdout",
     "output_type": "stream",
     "text": [
      "\n",
      "✅ STEP 2: Chosen significance level (alpha): 5.0%\n"
     ]
    }
   ],
   "source": [
    "significance_level = 0.05\n",
    "print(f\"\\n✅ STEP 2: Chosen significance level (alpha): {significance_level * 100:.1f}%\")"
   ]
  },
  {
   "cell_type": "code",
   "execution_count": 6,
   "id": "51713aaf",
   "metadata": {},
   "outputs": [],
   "source": [
    "# ==========================================\n",
    "# Substep: Power calculation\n",
    "# =========================================="
   ]
  },
  {
   "cell_type": "code",
   "execution_count": 7,
   "id": "5dfab71b",
   "metadata": {},
   "outputs": [
    {
     "name": "stderr",
     "output_type": "stream",
     "text": [
      "/Users/joelam/opt/anaconda3/lib/python3.9/site-packages/pandas/core/arrays/masked.py:60: UserWarning: Pandas requires version '1.3.6' or newer of 'bottleneck' (version '1.3.4' currently installed).\n",
      "  from pandas.core import (\n",
      "/Users/joelam/opt/anaconda3/lib/python3.9/site-packages/scipy/__init__.py:155: UserWarning: A NumPy version >=1.18.5 and <1.26.0 is required for this version of SciPy (detected version 1.26.4\n",
      "  warnings.warn(f\"A NumPy version >={np_minversion} and <{np_maxversion}\"\n"
     ]
    },
    {
     "name": "stdout",
     "output_type": "stream",
     "text": [
      "📊 Required sample size per group: 8143\n"
     ]
    }
   ],
   "source": [
    "from statsmodels.stats.power import NormalIndPower\n",
    "from statsmodels.stats.proportion import proportion_effectsize\n",
    "\n",
    "# Inputs\n",
    "baseline_rate = 0.05  # control group rate\n",
    "target_rate = 0.06    # desired variant rate (e.g., +1%)\n",
    "alpha = significance_level\n",
    "power = 0.8           # desired power (typically 0.8 or 80%)\n",
    "alternative = \"two-sided\"\n",
    "\n",
    "# Compute effect size\n",
    "effect_size = proportion_effectsize(baseline_rate, target_rate)\n",
    "\n",
    "# Solve for required sample size per group\n",
    "analysis = NormalIndPower()\n",
    "sample_size = analysis.solve_power(effect_size=effect_size, power=power, alpha=alpha, alternative=alternative)\n",
    "\n",
    "print(f\"📊 Required sample size per group: {round(float(sample_size))}\")"
   ]
  },
  {
   "cell_type": "code",
   "execution_count": 8,
   "id": "512ad438",
   "metadata": {},
   "outputs": [
    {
     "data": {
      "text/plain": [
       "'large'"
      ]
     },
     "execution_count": 8,
     "metadata": {},
     "output_type": "execute_result"
    }
   ],
   "source": [
    "# Label the sample_size as large or small\n",
    "size_label = \"large\" if sample_size >= 30 else \"small\"  # classic rule of thumb\n",
    "size_label"
   ]
  },
  {
   "cell_type": "code",
   "execution_count": 9,
   "id": "4a4af481",
   "metadata": {},
   "outputs": [],
   "source": [
    "# ==========================================\n",
    "# Substep: 📊 Load and Inspect Data\n",
    "# =========================================="
   ]
  },
  {
   "cell_type": "code",
   "execution_count": 10,
   "id": "d83d2956",
   "metadata": {},
   "outputs": [
    {
     "name": "stdout",
     "output_type": "stream",
     "text": [
      "Path to dataset files: /Users/joelam/.cache/kagglehub/datasets/arezaei81/marketing-ab-test/versions/1\n"
     ]
    }
   ],
   "source": [
    "import kagglehub\n",
    "\n",
    "# Download latest version\n",
    "path = kagglehub.dataset_download(\"arezaei81/marketing-ab-test\")\n",
    "\n",
    "print(\"Path to dataset files:\", path)"
   ]
  },
  {
   "cell_type": "code",
   "execution_count": 11,
   "id": "38b8f5d2",
   "metadata": {},
   "outputs": [],
   "source": [
    "# Import common libraries\n",
    "import pandas as pd\n",
    "import numpy as np\n",
    "import matplotlib.pyplot as plt\n",
    "import seaborn as sns"
   ]
  },
  {
   "cell_type": "code",
   "execution_count": 12,
   "id": "2ec96191",
   "metadata": {},
   "outputs": [],
   "source": [
    "# Read in csv\n",
    "file_path = '/Users/joelam/.cache/kagglehub/datasets/arezaei81/marketing-ab-test/versions/1/marketing_AB.csv'\n",
    "# if no headers (header=None) and if it's a tab delimited (sep='\t')\n",
    "df = pd.read_csv(file_path, index_col=0) "
   ]
  },
  {
   "cell_type": "code",
   "execution_count": 13,
   "id": "b0040f1e",
   "metadata": {},
   "outputs": [
    {
     "data": {
      "text/html": [
       "<div>\n",
       "<style scoped>\n",
       "    .dataframe tbody tr th:only-of-type {\n",
       "        vertical-align: middle;\n",
       "    }\n",
       "\n",
       "    .dataframe tbody tr th {\n",
       "        vertical-align: top;\n",
       "    }\n",
       "\n",
       "    .dataframe thead th {\n",
       "        text-align: right;\n",
       "    }\n",
       "</style>\n",
       "<table border=\"1\" class=\"dataframe\">\n",
       "  <thead>\n",
       "    <tr style=\"text-align: right;\">\n",
       "      <th></th>\n",
       "      <th>user id</th>\n",
       "      <th>test group</th>\n",
       "      <th>converted</th>\n",
       "      <th>total ads</th>\n",
       "      <th>most ads day</th>\n",
       "      <th>most ads hour</th>\n",
       "    </tr>\n",
       "  </thead>\n",
       "  <tbody>\n",
       "    <tr>\n",
       "      <th>0</th>\n",
       "      <td>1069124</td>\n",
       "      <td>ad</td>\n",
       "      <td>False</td>\n",
       "      <td>130</td>\n",
       "      <td>Monday</td>\n",
       "      <td>20</td>\n",
       "    </tr>\n",
       "    <tr>\n",
       "      <th>1</th>\n",
       "      <td>1119715</td>\n",
       "      <td>ad</td>\n",
       "      <td>False</td>\n",
       "      <td>93</td>\n",
       "      <td>Tuesday</td>\n",
       "      <td>22</td>\n",
       "    </tr>\n",
       "    <tr>\n",
       "      <th>2</th>\n",
       "      <td>1144181</td>\n",
       "      <td>ad</td>\n",
       "      <td>False</td>\n",
       "      <td>21</td>\n",
       "      <td>Tuesday</td>\n",
       "      <td>18</td>\n",
       "    </tr>\n",
       "    <tr>\n",
       "      <th>3</th>\n",
       "      <td>1435133</td>\n",
       "      <td>ad</td>\n",
       "      <td>False</td>\n",
       "      <td>355</td>\n",
       "      <td>Tuesday</td>\n",
       "      <td>10</td>\n",
       "    </tr>\n",
       "    <tr>\n",
       "      <th>4</th>\n",
       "      <td>1015700</td>\n",
       "      <td>ad</td>\n",
       "      <td>False</td>\n",
       "      <td>276</td>\n",
       "      <td>Friday</td>\n",
       "      <td>14</td>\n",
       "    </tr>\n",
       "  </tbody>\n",
       "</table>\n",
       "</div>"
      ],
      "text/plain": [
       "   user id test group  converted  total ads most ads day  most ads hour\n",
       "0  1069124         ad      False        130       Monday             20\n",
       "1  1119715         ad      False         93      Tuesday             22\n",
       "2  1144181         ad      False         21      Tuesday             18\n",
       "3  1435133         ad      False        355      Tuesday             10\n",
       "4  1015700         ad      False        276       Friday             14"
      ]
     },
     "execution_count": 13,
     "metadata": {},
     "output_type": "execute_result"
    }
   ],
   "source": [
    "# review first few records of the dataset\n",
    "df.head()"
   ]
  },
  {
   "cell_type": "code",
   "execution_count": 14,
   "id": "caaa1da5",
   "metadata": {},
   "outputs": [
    {
     "name": "stdout",
     "output_type": "stream",
     "text": [
      "<class 'pandas.core.frame.DataFrame'>\n",
      "Index: 588101 entries, 0 to 588100\n",
      "Data columns (total 6 columns):\n",
      " #   Column         Non-Null Count   Dtype \n",
      "---  ------         --------------   ----- \n",
      " 0   user id        588101 non-null  int64 \n",
      " 1   test group     588101 non-null  object\n",
      " 2   converted      588101 non-null  bool  \n",
      " 3   total ads      588101 non-null  int64 \n",
      " 4   most ads day   588101 non-null  object\n",
      " 5   most ads hour  588101 non-null  int64 \n",
      "dtypes: bool(1), int64(3), object(2)\n",
      "memory usage: 27.5+ MB\n"
     ]
    }
   ],
   "source": [
    "# check the column names, non-null count, and data types\n",
    "df.info()"
   ]
  },
  {
   "cell_type": "code",
   "execution_count": 15,
   "id": "c31cf03b",
   "metadata": {},
   "outputs": [
    {
     "data": {
      "text/plain": [
       "user id          588101\n",
       "test group            2\n",
       "converted             2\n",
       "total ads           807\n",
       "most ads day          7\n",
       "most ads hour        24\n",
       "dtype: int64"
      ]
     },
     "execution_count": 15,
     "metadata": {},
     "output_type": "execute_result"
    }
   ],
   "source": [
    "# generate a list of columns and the unique value count\n",
    "df.nunique()"
   ]
  },
  {
   "cell_type": "code",
   "execution_count": 16,
   "id": "d251e73a",
   "metadata": {},
   "outputs": [
    {
     "data": {
      "text/html": [
       "<div>\n",
       "<style scoped>\n",
       "    .dataframe tbody tr th:only-of-type {\n",
       "        vertical-align: middle;\n",
       "    }\n",
       "\n",
       "    .dataframe tbody tr th {\n",
       "        vertical-align: top;\n",
       "    }\n",
       "\n",
       "    .dataframe thead th {\n",
       "        text-align: right;\n",
       "    }\n",
       "</style>\n",
       "<table border=\"1\" class=\"dataframe\">\n",
       "  <thead>\n",
       "    <tr style=\"text-align: right;\">\n",
       "      <th></th>\n",
       "      <th>Sample Size</th>\n",
       "      <th>Conversion Rate</th>\n",
       "      <th>Successes</th>\n",
       "    </tr>\n",
       "    <tr>\n",
       "      <th>test group</th>\n",
       "      <th></th>\n",
       "      <th></th>\n",
       "      <th></th>\n",
       "    </tr>\n",
       "  </thead>\n",
       "  <tbody>\n",
       "    <tr>\n",
       "      <th>ad</th>\n",
       "      <td>564577</td>\n",
       "      <td>0.025547</td>\n",
       "      <td>14423</td>\n",
       "    </tr>\n",
       "    <tr>\n",
       "      <th>psa</th>\n",
       "      <td>23524</td>\n",
       "      <td>0.017854</td>\n",
       "      <td>420</td>\n",
       "    </tr>\n",
       "  </tbody>\n",
       "</table>\n",
       "</div>"
      ],
      "text/plain": [
       "            Sample Size  Conversion Rate  Successes\n",
       "test group                                         \n",
       "ad               564577         0.025547      14423\n",
       "psa               23524         0.017854        420"
      ]
     },
     "execution_count": 16,
     "metadata": {},
     "output_type": "execute_result"
    }
   ],
   "source": [
    "# A/B Test Descriptive Summary\n",
    "def group_summary(df):\n",
    "    summary = df.groupby(group_col)[metric_col].agg(['count', 'mean', 'sum'])\n",
    "    summary.columns = ['Sample Size', 'Conversion Rate', 'Successes']\n",
    "    return summary\n",
    "group_summary(df)"
   ]
  },
  {
   "cell_type": "code",
   "execution_count": 17,
   "id": "f777a9b5",
   "metadata": {},
   "outputs": [
    {
     "data": {
      "text/html": [
       "<div>\n",
       "<style scoped>\n",
       "    .dataframe tbody tr th:only-of-type {\n",
       "        vertical-align: middle;\n",
       "    }\n",
       "\n",
       "    .dataframe tbody tr th {\n",
       "        vertical-align: top;\n",
       "    }\n",
       "\n",
       "    .dataframe thead th {\n",
       "        text-align: right;\n",
       "    }\n",
       "</style>\n",
       "<table border=\"1\" class=\"dataframe\">\n",
       "  <thead>\n",
       "    <tr style=\"text-align: right;\">\n",
       "      <th></th>\n",
       "      <th>test group</th>\n",
       "      <th>Conversions</th>\n",
       "      <th>Total_Users</th>\n",
       "      <th>Conversion_Rate</th>\n",
       "    </tr>\n",
       "  </thead>\n",
       "  <tbody>\n",
       "    <tr>\n",
       "      <th>0</th>\n",
       "      <td>ad</td>\n",
       "      <td>14423</td>\n",
       "      <td>564577</td>\n",
       "      <td>0.025547</td>\n",
       "    </tr>\n",
       "    <tr>\n",
       "      <th>1</th>\n",
       "      <td>psa</td>\n",
       "      <td>420</td>\n",
       "      <td>23524</td>\n",
       "      <td>0.017854</td>\n",
       "    </tr>\n",
       "  </tbody>\n",
       "</table>\n",
       "</div>"
      ],
      "text/plain": [
       "  test group  Conversions  Total_Users  Conversion_Rate\n",
       "0         ad        14423       564577         0.025547\n",
       "1        psa          420        23524         0.017854"
      ]
     },
     "execution_count": 17,
     "metadata": {},
     "output_type": "execute_result"
    }
   ],
   "source": [
    "# 📊 Generate Conversion Summary Table\n",
    "summary_df = (\n",
    "    df.groupby(\"test group\")[\"converted\"]\n",
    "    .agg(Conversions=\"sum\", Total_Users=\"count\")\n",
    "    .assign(Conversion_Rate=lambda x: x[\"Conversions\"] / x[\"Total_Users\"])\n",
    "    .reset_index()\n",
    ")\n",
    "\n",
    "summary_df"
   ]
  },
  {
   "cell_type": "code",
   "execution_count": 18,
   "id": "bdac1b5c",
   "metadata": {},
   "outputs": [
    {
     "data": {
      "image/png": "[encoded data removed]",
      "text/plain": [
       "<Figure size 576x108 with 1 Axes>"
      ]
     },
     "metadata": {
      "needs_background": "light"
     },
     "output_type": "display_data"
    }
   ],
   "source": [
    "# Display as a nicely formatted table\n",
    "def display_summary_table(df):\n",
    "    fig, ax = plt.subplots(figsize=(8, 1.5))\n",
    "    ax.axis('off')\n",
    "\n",
    "    table_df = pd.DataFrame({\n",
    "        \"Group\": df[\"test group\"],\n",
    "        \"Conversions\": df[\"Conversions\"],\n",
    "        \"Total Users\": df[\"Total_Users\"],\n",
    "        \"Conversion Rate\": (df[\"Conversion_Rate\"] * 100).round(2).astype(str) + '%'\n",
    "    })\n",
    "\n",
    "    table = ax.table(cellText=table_df.values, colLabels=table_df.columns, cellLoc='center', loc='center')\n",
    "    table.scale(1, 1.5)  # optional: scale rows for better visibility\n",
    "    table.set_fontsize(12)\n",
    "\n",
    "    plt.title(\"Conversion Summary Table\", weight='bold', pad=10)\n",
    "    plt.tight_layout()\n",
    "    plt.show()\n",
    "\n",
    "# Call the function with summary_df\n",
    "display_summary_table(summary_df)"
   ]
  },
  {
   "cell_type": "code",
   "execution_count": 19,
   "id": "73c95ee3",
   "metadata": {},
   "outputs": [
    {
     "data": {
      "text/plain": [
       "<AxesSubplot: xlabel='test group', ylabel='count'>"
      ]
     },
     "execution_count": 19,
     "metadata": {},
     "output_type": "execute_result"
    },
    {
     "data": {
      "image/png": "[encoded data removed]",
      "text/plain": [
       "<Figure size 432x288 with 1 Axes>"
      ]
     },
     "metadata": {
      "needs_background": "light"
     },
     "output_type": "display_data"
    }
   ],
   "source": [
    "# Inspect balance between test/control\n",
    "sns.countplot(data=df, x='test group', color='green')\n",
    "sns.barplot(data=df, x='test group', y='converted', color='green')  # Replace with correct metric"
   ]
  },
  {
   "cell_type": "markdown",
   "id": "c96c9568",
   "metadata": {},
   "source": [
    "🔍 **Group Balance Observation**\n",
    "\n",
    "The count plot above reveals a significant imbalance between the two groups in our experiment:\n",
    "- The **ad group** has over **560,000** users\n",
    "- The **psa group** has only around **23,000** users\n",
    "\n",
    "This imbalance can affect the **statistical power and variance estimates** of our test. While the large sample size in the ad group makes it easier to detect small effects, the much smaller psa group could introduce instability or reduce the confidence in comparisons. This is important context when interpreting statistical results — especially confidence intervals and p-values — as they assume relatively comparable group sizes in many classic tests.\n"
   ]
  },
  {
   "cell_type": "code",
   "execution_count": 20,
   "id": "574ff7f9",
   "metadata": {},
   "outputs": [
    {
     "name": "stdout",
     "output_type": "stream",
     "text": [
      "test group\n",
      "ad     0.025547\n",
      "psa    0.017854\n",
      "Name: converted, dtype: float64\n"
     ]
    }
   ],
   "source": [
    "# Average conversion rate per group\n",
    "conversion_rates = df.groupby('test group')['converted'].mean()\n",
    "print(conversion_rates)"
   ]
  },
  {
   "cell_type": "code",
   "execution_count": 21,
   "id": "afbeac7f",
   "metadata": {},
   "outputs": [],
   "source": [
    "# ==========================================\n",
    "# 💡 STEP 3: Find the P-value\n",
    "# =========================================="
   ]
  },
  {
   "cell_type": "code",
   "execution_count": 22,
   "id": "b74f0bd0",
   "metadata": {},
   "outputs": [],
   "source": [
    "# ==========================================\n",
    "# Recommend the Appropriate Test and Explain Rationale\n",
    "# =========================================="
   ]
  },
  {
   "cell_type": "code",
   "execution_count": 23,
   "id": "c722dcbd",
   "metadata": {},
   "outputs": [],
   "source": [
    "# Define function that will explain the rationale behind the test selection\n",
    "def explain_test_choice(metric_type, comparison_type, sample_size):\n",
    "    if isinstance(sample_size, (int, float)):\n",
    "        size_label = \"large\" if sample_size >= 30 else \"small\"\n",
    "    else:\n",
    "        size_label = sample_size.lower()\n",
    "\n",
    "    explanation = \"\\n💡 Why we chose this test:\\n\"\n",
    "\n",
    "    if comparison_type == \"two-sample\":\n",
    "        if metric_type == 'binary':\n",
    "            if size_label == 'large':\n",
    "                test = \"Two-Proportion Z-Test\"\n",
    "                reason = (\n",
    "                    \"We’re comparing two groups (like ad vs. PSA) to see if one has a higher conversion rate. \"\n",
    "                    \"Since we have a large enough sample, this test gives a reliable result.\"\n",
    "                )\n",
    "            else:\n",
    "                test = \"Fisher’s Exact Test\"\n",
    "                reason = (\n",
    "                    \"We’re comparing conversion rates between two small groups. \"\n",
    "                    \"This test is better when sample sizes are too small for reliable averages.\"\n",
    "                )\n",
    "        elif metric_type == 'continuous':\n",
    "            if size_label == 'large':\n",
    "                test = \"Independent T-Test\"\n",
    "                reason = (\n",
    "                    \"We’re comparing the average of a numeric outcome (like revenue or time spent) between two groups. \"\n",
    "                    \"A larger sample helps ensure the averages are meaningful.\"\n",
    "                )\n",
    "            else:\n",
    "                test = \"Mann–Whitney U Test\"\n",
    "                reason = (\n",
    "                    \"We’re comparing averages between two smaller groups, but can’t assume the data follows a nice bell curve. \"\n",
    "                    \"This test works better in that case.\"\n",
    "                )\n",
    "        elif metric_type == 'count':\n",
    "            test = \"Count Comparison (Mann–Whitney U or Poisson Regression)\"\n",
    "            reason = (\n",
    "                \"We’re comparing the number of events or actions between two groups. \"\n",
    "                \"There are a few options depending on how the data is structured.\"\n",
    "            )\n",
    "        elif metric_type == 'categorical':\n",
    "            test = \"Chi-Square Test\"\n",
    "            reason = (\n",
    "                \"We’re checking if there’s a meaningful difference in the way categories (like yes/no, A/B/C) are distributed between groups.\"\n",
    "            )\n",
    "    elif comparison_type == \"one-sample\":\n",
    "        if metric_type == 'binary':\n",
    "            test = \"One-Sample Proportion Z-Test\"\n",
    "            reason = (\n",
    "                \"We’re checking if our group's conversion rate is different from a known benchmark or target.\"\n",
    "            )\n",
    "        elif metric_type == 'continuous':\n",
    "            test = \"One-Sample T-Test\"\n",
    "            reason = (\n",
    "                \"We’re comparing the average of a numeric outcome to a known value (like a previous average or goal).\"\n",
    "            )\n",
    "    elif comparison_type == \"paired\":\n",
    "        if metric_type == 'continuous':\n",
    "            if size_label == 'large':\n",
    "                test = \"Paired T-Test\"\n",
    "                reason = (\n",
    "                    \"We’re comparing the same users before and after a change, or matched pairs. \"\n",
    "                    \"This test helps us see if the change made a real impact.\"\n",
    "                )\n",
    "            else:\n",
    "                test = \"Wilcoxon Signed-Rank Test\"\n",
    "                reason = (\n",
    "                    \"We’re comparing paired data (like before vs. after) with a small sample. \"\n",
    "                    \"This test handles that kind of data better.\"\n",
    "                )\n",
    "\n",
    "    return f\"📌 Recommended Test: {test}\\n{explanation}{reason}\"\n"
   ]
  },
  {
   "cell_type": "code",
   "execution_count": 24,
   "id": "5660b1d9",
   "metadata": {},
   "outputs": [
    {
     "name": "stdout",
     "output_type": "stream",
     "text": [
      "📌 Recommended Test: Two-Proportion Z-Test\n",
      "\n",
      "💡 Why we chose this test:\n",
      "We’re comparing two groups (like ad vs. PSA) to see if one has a higher conversion rate. Since we have a large enough sample, this test gives a reliable result.\n"
     ]
    }
   ],
   "source": [
    "print(explain_test_choice(metric_type, comparison_type, size_label))\n"
   ]
  },
  {
   "cell_type": "code",
   "execution_count": 25,
   "id": "4c554d1c",
   "metadata": {},
   "outputs": [],
   "source": [
    "# =============================================================\n",
    "# 🧾 STEP 4: Reject or Fail to Reject the Null Hypothesis\n",
    "# ============================================================="
   ]
  },
  {
   "cell_type": "code",
   "execution_count": 26,
   "id": "b7d7cf97",
   "metadata": {},
   "outputs": [
    {
     "name": "stdout",
     "output_type": "stream",
     "text": [
      "\n",
      "🧪 Two-Proportion Z-Test Results\n",
      "Z-statistic: 7.3701\n",
      "P-value: 0.0000\n",
      "\n",
      "P-value: 0.0000 vs. Alpha: 0.05\n",
      "✅ Result: Reject the null hypothesis (H₀)\n"
     ]
    }
   ],
   "source": [
    "from statsmodels.stats.proportion import proportions_ztest\n",
    "\n",
    "# 🧮 Automatically calculate counts and sample sizes from the DataFrame\n",
    "group_a, group_b = group_names\n",
    "success_a = df[df[group_col] == group_a][metric_col].sum()\n",
    "success_b = df[df[group_col] == group_b][metric_col].sum()\n",
    "nobs_a = df[df[group_col] == group_a].shape[0]\n",
    "nobs_b = df[df[group_col] == group_b].shape[0]\n",
    "\n",
    "counts = [success_a, success_b]\n",
    "nobs = [nobs_a, nobs_b]\n",
    "\n",
    "# Map direction variable to appropiately supply alternative when running the Two-Proportion Z-Test\n",
    "direction_map = {\n",
    "    \"greater\": \"larger\",\n",
    "    \"less\": \"smaller\",\n",
    "    \"two-sided\": \"two-sided\"\n",
    "}\n",
    "test_direction = direction_map[direction]\n",
    "\n",
    "# 📌 Run Two-Proportion Z-Test\n",
    "z_stat, p_value = proportions_ztest(count=counts, nobs=nobs, alternative=test_direction)\n",
    "\n",
    "print(f\"\\n🧪 Two-Proportion Z-Test Results\")\n",
    "print(f\"Z-statistic: {z_stat:.4f}\")\n",
    "print(f\"P-value: {p_value:.4f}\")\n",
    "\n",
    "# 📌 Hypothesis Decision\n",
    "print(f\"\\nP-value: {p_value:.4f} vs. Alpha: {significance_level}\")\n",
    "if p_value < significance_level:\n",
    "    print(\"✅ Result: Reject the null hypothesis (H₀)\")\n",
    "else:\n",
    "    print(\"❌ Result: Fail to reject the null hypothesis (H₀)\")"
   ]
  },
  {
   "cell_type": "code",
   "execution_count": 27,
   "id": "15030181",
   "metadata": {},
   "outputs": [
    {
     "name": "stdout",
     "output_type": "stream",
     "text": [
      "🧾 Two-Proportion Z-Test Setup:\n",
      "- Group A: ad — 14423 successes out of 564577 users\n",
      "- Group B: psa — 420 successes out of 23524 users\n",
      "- Hypothesis direction: 'greater' → alternative = 'larger'\n",
      "- Significance level (alpha): 0.05\n",
      "\n",
      "🧪 Two-Proportion Z-Test Results:\n",
      "- Z-statistic: 7.3701\n",
      "- P-value: 0.0000\n",
      "\n",
      "📌 Hypothesis Decision:\n",
      "Comparing p-value (0.0000) to alpha (0.05)...\n",
      "✅ Result: Reject the null hypothesis (H₀) — there is a statistically significant difference.\n"
     ]
    }
   ],
   "source": [
    "from statsmodels.stats.proportion import proportions_ztest\n",
    "\n",
    "# 🧮 Automatically calculate counts and sample sizes from the DataFrame\n",
    "group_a, group_b = group_names\n",
    "success_a = df[df[group_col] == group_a][metric_col].sum()\n",
    "success_b = df[df[group_col] == group_b][metric_col].sum()\n",
    "nobs_a = df[df[group_col] == group_a].shape[0]\n",
    "nobs_b = df[df[group_col] == group_b].shape[0]\n",
    "\n",
    "counts = [success_a, success_b]\n",
    "nobs = [nobs_a, nobs_b]\n",
    "\n",
    "# Map direction variable to match statsmodels syntax\n",
    "direction_map = {\n",
    "    \"greater\": \"larger\",\n",
    "    \"less\": \"smaller\",\n",
    "    \"two-sided\": \"two-sided\"\n",
    "}\n",
    "test_direction = direction_map[direction]\n",
    "\n",
    "# 📌 Preview test inputs\n",
    "print(f\"🧾 Two-Proportion Z-Test Setup:\")\n",
    "print(f\"- Group A: {group_a} — {success_a} successes out of {nobs_a} users\")\n",
    "print(f\"- Group B: {group_b} — {success_b} successes out of {nobs_b} users\")\n",
    "print(f\"- Hypothesis direction: '{direction}' → alternative = '{test_direction}'\")\n",
    "print(f\"- Significance level (alpha): {significance_level:.2f}\")\n",
    "\n",
    "# 📊 Run the test\n",
    "z_stat, p_value = proportions_ztest(count=counts, nobs=nobs, alternative=test_direction)\n",
    "\n",
    "# 📌 Show results\n",
    "print(f\"\\n🧪 Two-Proportion Z-Test Results:\")\n",
    "print(f\"- Z-statistic: {z_stat:.4f}\")\n",
    "print(f\"- P-value: {p_value:.4f}\")\n",
    "\n",
    "# 🔍 Interpret decision\n",
    "print(f\"\\n📌 Hypothesis Decision:\")\n",
    "print(f\"Comparing p-value ({p_value:.4f}) to alpha ({significance_level:.2f})...\")\n",
    "if p_value < significance_level:\n",
    "    print(\"✅ Result: Reject the null hypothesis (H₀) — there is a statistically significant difference.\")\n",
    "else:\n",
    "    print(\"❌ Result: Fail to reject the null hypothesis (H₀) — we did not observe a statistically significant difference.\")"
   ]
  },
  {
   "cell_type": "code",
   "execution_count": 28,
   "id": "b00fe632",
   "metadata": {},
   "outputs": [],
   "source": [
    "# ==========================================\n",
    "# 📊 STEP 8: Plot Conversion Rate with Confidence Intervals\n",
    "# =========================================="
   ]
  },
  {
   "cell_type": "code",
   "execution_count": 29,
   "id": "33dac42d",
   "metadata": {},
   "outputs": [
    {
     "name": "stdout",
     "output_type": "stream",
     "text": [
      "Ad Group Conversion Rate: 0.0255\n",
      "PSA Group Conversion Rate: 0.0179\n",
      "\n",
      "📈 Absolute Lift Calculation:\n",
      "  0.0255 - 0.0179 = 0.0077 (0.77 percentage points)\n",
      "\n",
      "📈 Relative Lift Calculation:\n",
      "  (0.0077 / 0.0179) * 100 = 43.09%\n",
      "  → 43.09% improvement in conversion rate for the ad group over PSA\n"
     ]
    }
   ],
   "source": [
    "# Calculate conversion rates\n",
    "conversion_rates = df.groupby(group_col)[metric_col].mean()\n",
    "rate_ad = conversion_rates[group_names[0]]\n",
    "rate_psa = conversion_rates[group_names[1]]\n",
    "\n",
    "# Calculate lifts\n",
    "absolute_lift = rate_ad - rate_psa\n",
    "relative_lift = (absolute_lift / rate_psa) * 100\n",
    "\n",
    "# Display results with math explanation\n",
    "print(f\"Ad Group Conversion Rate: {rate_ad:.4f}\")\n",
    "print(f\"PSA Group Conversion Rate: {rate_psa:.4f}\\n\")\n",
    "\n",
    "print(f\"📈 Absolute Lift Calculation:\")\n",
    "print(f\"  {rate_ad:.4f} - {rate_psa:.4f} = {absolute_lift:.4f} ({absolute_lift*100:.2f} percentage points)\\n\")\n",
    "\n",
    "print(f\"📈 Relative Lift Calculation:\")\n",
    "print(f\"  ({absolute_lift:.4f} / {rate_psa:.4f}) * 100 = {relative_lift:.2f}%\")\n",
    "print(f\"  → {relative_lift:.2f}% improvement in conversion rate for the ad group over PSA\")\n"
   ]
  },
  {
   "cell_type": "markdown",
   "id": "ef5d935c",
   "metadata": {},
   "source": [
    "### 📈 Lift Analysis\n",
    "\n",
    "To better understand the practical impact of the ad campaign, we measured both **absolute** and **relative lift**:\n",
    "\n",
    "- **Absolute Lift**: The ad group converted **{absolute_lift*100:.2f}%** more users than the PSA group.\n",
    "- **Relative Lift**: This represents a **{relative_lift:.2f}% improvement** over the PSA group’s performance.\n",
    "\n",
    "These metrics demonstrate not just that the ad performed better, but **how much better** — providing a clear business case for moving forward with the ad campaign.\n"
   ]
  },
  {
   "cell_type": "code",
   "execution_count": 30,
   "id": "1badc9f6",
   "metadata": {},
   "outputs": [
    {
     "data": {
      "image/png": "[encoded data removed]",
      "text/plain": [
       "<Figure size 432x288 with 1 Axes>"
      ]
     },
     "metadata": {
      "needs_background": "light"
     },
     "output_type": "display_data"
    }
   ],
   "source": [
    "import statsmodels.api as sm\n",
    "\n",
    "def plot_conversion_with_bands(df):\n",
    "    import seaborn as sns\n",
    "    summary = df.groupby(group_col)[metric_col].agg(['count', 'sum'])\n",
    "    conversions = summary['sum'].values\n",
    "    sizes = summary['count'].values\n",
    "    rates = conversions / sizes\n",
    "    ci_low, ci_upp = sm.stats.proportion_confint(conversions, sizes)\n",
    "\n",
    "    fig, ax = plt.subplots()\n",
    "    bars = ax.bar(group_names, rates, color=['#8ecae6', '#ffb703'])\n",
    "\n",
    "    # Draw shaded CI areas\n",
    "    for i in range(len(group_names)):\n",
    "        ax.fill_between(\n",
    "            [i - 0.2, i + 0.2],\n",
    "            [ci_low[i]]*2,\n",
    "            [ci_upp[i]]*2,\n",
    "            color='gray',\n",
    "            alpha=0.2\n",
    "        )\n",
    "        ax.text(i, rates[i] + 0.0015, f\"{rates[i]:.2%}\", ha='center', fontweight='bold')\n",
    "\n",
    "    ax.set_ylabel(\"Conversion Rate\")\n",
    "    ax.set_title(\"Conversion Rates with Confidence Ranges\")\n",
    "    plt.ylim(0, max(ci_upp) + 0.01)\n",
    "    plt.grid(axis='y', linestyle='--', alpha=0.5)\n",
    "    plt.show()\n",
    "\n",
    "plot_conversion_with_bands(df)"
   ]
  },
  {
   "cell_type": "code",
   "execution_count": 31,
   "id": "b35c2d5c",
   "metadata": {},
   "outputs": [],
   "source": [
    "def bootstrap_conversion_plot(df, group_col, metric_col, group_names, n_bootstrap=1000, ci=95, random_state=30):\n",
    "    results = {}\n",
    "    rng = np.random.default_rng(seed=random_state)  # seeded RNG for reproducibility\n",
    "\n",
    "    for group in group_names:\n",
    "        data = df[df[group_col] == group][metric_col].values\n",
    "        boot_means = []\n",
    "\n",
    "        for _ in range(n_bootstrap):\n",
    "            sample = rng.choice(data, size=len(data), replace=True)\n",
    "            boot_means.append(sample.mean())\n",
    "\n",
    "        results[group] = {\n",
    "            \"means\": boot_means,\n",
    "            \"lower\": np.percentile(boot_means, (100 - ci) / 2),\n",
    "            \"upper\": np.percentile(boot_means, 100 - (100 - ci) / 2)\n",
    "        }\n",
    "\n",
    "    # Optional: keep plotting order as defined by group_names\n",
    "    for group in group_names:\n",
    "        sns.kdeplot(results[group][\"means\"], fill=True, label=f\"{group} group\")\n",
    "        plt.axvline(results[group][\"lower\"], color='gray', linestyle='--', alpha=0.5)\n",
    "        plt.axvline(results[group][\"upper\"], color='gray', linestyle='--', alpha=0.5)\n",
    "\n",
    "    plt.title(f\"Bootstrap Distribution of Conversion Rates ({ci}% CI)\")\n",
    "    plt.xlabel(\"Conversion Rate\")\n",
    "    plt.ylabel(\"Density\")\n",
    "    plt.legend()\n",
    "    plt.grid(True, linestyle='--', alpha=0.3)\n",
    "    plt.tight_layout()\n",
    "    plt.show()\n",
    "\n",
    "    # 🧾 Print CI summary\n",
    "    for group in group_names:\n",
    "        print(f\"{group} group {ci}% CI: {results[group]['lower']:.4f} – {results[group]['upper']:.4f}\")"
   ]
  },
  {
   "cell_type": "code",
   "execution_count": 32,
   "id": "e5e609eb",
   "metadata": {},
   "outputs": [
    {
     "data": {
      "image/png": "[encoded data removed]",
      "text/plain": [
       "<Figure size 432x288 with 1 Axes>"
      ]
     },
     "metadata": {
      "needs_background": "light"
     },
     "output_type": "display_data"
    },
    {
     "name": "stdout",
     "output_type": "stream",
     "text": [
      "ad group 95% CI: 0.0251 – 0.0260\n",
      "psa group 95% CI: 0.0161 – 0.0196\n"
     ]
    }
   ],
   "source": [
    "bootstrap_conversion_plot(df, group_col, metric_col, group_names)"
   ]
  },
  {
   "cell_type": "markdown",
   "id": "6632481e",
   "metadata": {},
   "source": [
    "## 📊 A/B Test Conclusion: Ads vs. PSA\n",
    "\n",
    "### ✅ Result Summary\n",
    "The **ad group** demonstrated a **statistically significant improvement** in conversion rate compared to the **PSA group**.\n",
    "\n",
    "We ran a bootstrap simulation (1,000 samples) to account for natural variation. The resulting KDE plot shows:\n",
    "\n",
    "- 📈 The **ad group's distribution** is centered around a **higher conversion rate**\n",
    "- 🎯 The **95% confidence intervals** do **not overlap**\n",
    "- 🔐 This tells us the difference is **unlikely to be due to chance**\n",
    "\n",
    "### 💬 Plain English Interpretation\n",
    "> \"The ad campaign clearly outperformed the PSA. Even when simulating the experiment thousands of times, the results were consistently better for ads. We’re 95% confident this isn’t a fluke.\"\n",
    "\n",
    "### 📌 Visual Support\n",
    "- The **ad group's curve is taller and narrower**, meaning performance was both **better and more consistent**\n",
    "- The **PSA group's curve is lower and wider**, indicating **worse and more variable** performance\n",
    "- **No overlap in confidence bands** = strong statistical evidence of a real difference\n",
    "\n",
    "---\n",
    "\n",
    "### ✅ Confidence in Results Despite Group Imbalance\n",
    "\n",
    "While the ad group had significantly more users than the PSA group, both groups were still **large enough** to support a reliable statistical test. The PSA group included over **23,000 users**, which is well above the sample size required to detect a meaningful difference based on our power calculations.\n",
    "\n",
    "In other words, even though the group sizes weren't equal, we still have **high confidence** that the difference in conversion rates was **not due to chance**. The effect we observed is real and statistically significant, supported by both hypothesis testing and confidence intervals from bootstrapping.\n",
    "\n",
    "---\n"
   ]
  },
  {
   "cell_type": "markdown",
   "id": "56ae34d9",
   "metadata": {},
   "source": [
    "### 🧠 Note on Stratification\n",
    "\n",
    "Stratification was **not applied** in this analysis because the dataset does **not include any user-level metadata** (such as geography, device type, acquisition source, etc.) that would allow for meaningful segmentation.\n",
    "\n",
    "In real-world experiments, stratifying by relevant features can help ensure balanced groups and increase statistical power by accounting for variance across subgroups. However, in this case, randomization appears sufficient given the simplicity of the dataset and the absence of known confounding variables.\n"
   ]
  },
  {
   "cell_type": "markdown",
   "id": "bafbc304",
   "metadata": {},
   "source": []
  }
 ],
 "metadata": {
  "kernelspec": {
   "display_name": "base",
   "language": "python",
   "name": "python3"
  },
  "language_info": {
   "codemirror_mode": {
    "name": "ipython",
    "version": 3
   },
   "file_extension": ".py",
   "mimetype": "text/x-python",
   "name": "python",
   "nbconvert_exporter": "python",
   "pygments_lexer": "ipython3",
   "version": "3.9.12"
  }
 },
 "nbformat": 4,
 "nbformat_minor": 5
}
